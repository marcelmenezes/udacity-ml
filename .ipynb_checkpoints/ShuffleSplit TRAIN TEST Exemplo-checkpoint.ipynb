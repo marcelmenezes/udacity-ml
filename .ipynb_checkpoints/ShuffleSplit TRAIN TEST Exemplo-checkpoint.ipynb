{
 "cells": [
  {
   "cell_type": "code",
   "execution_count": 44,
   "metadata": {},
   "outputs": [
    {
     "name": "stdout",
     "output_type": "stream",
     "text": [
      "ShuffleSplit(n_splits=10, random_state=None, test_size=0.25, train_size=None)\n",
      "TRAIN: [2 1 3 5] TEST: [4 0]\n",
      "TRAIN: [2 5 0 3] TEST: [1 4]\n",
      "TRAIN: [2 5 4 1] TEST: [0 3]\n",
      "TRAIN: [3 2 1 4] TEST: [5 0]\n",
      "TRAIN: [1 5 3 2] TEST: [4 0]\n",
      "TRAIN: [1 0 4 3] TEST: [5 2]\n",
      "TRAIN: [1 5 0 2] TEST: [4 3]\n",
      "TRAIN: [0 4 5 1] TEST: [2 3]\n",
      "TRAIN: [0 2 4 3] TEST: [1 5]\n",
      "TRAIN: [2 0 3 5] TEST: [1 4]\n"
     ]
    }
   ],
   "source": [
    "from sklearn.model_selection import ShuffleSplit\n",
    "import numpy as np\n",
    "X = np.array([[1, 2], [3, 4], [5, 6], [7, 8], [3, 4], [5, 6]])\n",
    "rs = ShuffleSplit(test_size=.25)\n",
    "rs.get_n_splits(X)\n",
    "\n",
    "print(rs)\n",
    "\n",
    "for train_index, test_index in rs.split(X):\n",
    "   print(\"TRAIN:\", train_index, \"TEST:\", test_index)\n",
    " \n",
    "\n"
   ]
  }
 ],
 "metadata": {
  "kernelspec": {
   "display_name": "Python [default]",
   "language": "python",
   "name": "python3"
  },
  "language_info": {
   "codemirror_mode": {
    "name": "ipython",
    "version": 3
   },
   "file_extension": ".py",
   "mimetype": "text/x-python",
   "name": "python",
   "nbconvert_exporter": "python",
   "pygments_lexer": "ipython3",
   "version": "3.6.8"
  }
 },
 "nbformat": 4,
 "nbformat_minor": 2
}
