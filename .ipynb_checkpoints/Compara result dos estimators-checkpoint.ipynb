{
 "cells": [
  {
   "cell_type": "code",
   "execution_count": 2,
   "metadata": {
    "scrolled": false
   },
   "outputs": [
    {
     "name": "stderr",
     "output_type": "stream",
     "text": [
      "C:\\Users\\casa\\Anaconda3\\lib\\site-packages\\sklearn\\ensemble\\weight_boosting.py:29: DeprecationWarning: numpy.core.umath_tests is an internal NumPy module and should not be imported. It will be removed in a future NumPy release.\n",
      "  from numpy.core.umath_tests import inner1d\n"
     ]
    }
   ],
   "source": [
    "# https://www.programcreek.com/python/example/104690/sklearn.datasets.load_breast_cancer\n",
    "\n",
    "import pandas as pd\n",
    "import numpy as np\n",
    "from sklearn import datasets\n",
    "from sklearn.model_selection import train_test_split\n",
    "from sklearn.ensemble import RandomForestClassifier\n",
    "from sklearn.linear_model import LogisticRegression\n",
    "from sklearn.svm import SVC\n",
    "from sklearn.dummy import DummyClassifier\n",
    "\n",
    "%matplotlib inline\n",
    "\n",
    "df = datasets.load_breast_cancer()\n"
   ]
  },
  {
   "cell_type": "code",
   "execution_count": 3,
   "metadata": {},
   "outputs": [
    {
     "name": "stdout",
     "output_type": "stream",
     "text": [
      "0.958041958041958\n",
      "0.9230769230769231\n",
      "0.951048951048951\n",
      "0.4825174825174825\n",
      "0.6293706293706294\n"
     ]
    }
   ],
   "source": [
    "def trained_models():\n",
    "    dataset = datasets.load_breast_cancer()\n",
    "    X = dataset.data\n",
    "    y = dataset.target\n",
    "\n",
    "    X_train, X_test, y_train, y_test = train_test_split(X, y, test_size = 0.25)\n",
    "\n",
    "    rf = RandomForestClassifier()\n",
    "    rf.fit(X_train, y_train)\n",
    "\n",
    "    lr = LogisticRegression()\n",
    "    lr.fit(X_train, y_train)\n",
    "\n",
    "    svc_w_linear_kernel = SVC(kernel='linear')\n",
    "    svc_w_linear_kernel.fit(X_train, y_train)\n",
    "\n",
    "    svc_wo_linear_kernel = SVC()\n",
    "    svc_wo_linear_kernel.fit(X_train, y_train)\n",
    "\n",
    "    dummy = DummyClassifier()\n",
    "    dummy.fit(X_train, y_train)\n",
    "\n",
    "    return {'X_test': X_test, 'y_test': y_test, 'RF':rf, 'LR':lr, 'SVC_w_linear_kernel':svc_w_linear_kernel,\n",
    "            'Dummy':dummy, 'SVC_wo_linear_kernel':svc_wo_linear_kernel} \n",
    "\n",
    "tm = trained_models()\n",
    "X = tm['X_test']\n",
    "y = tm['y_test']\n",
    "print(tm['RF'].score(X, y))\n",
    "print(tm['LR'].score(X, y))\n",
    "print(tm['SVC_w_linear_kernel'].score(X, y))\n",
    "print(tm['Dummy'].score(X, y))\n",
    "print(tm['SVC_wo_linear_kernel'].score(X, y))"
   ]
  },
  {
   "cell_type": "code",
   "execution_count": 45,
   "metadata": {
    "scrolled": false
   },
   "outputs": [
    {
     "name": "stdout",
     "output_type": "stream",
     "text": [
      "Variance score: 0.7406\n"
     ]
    },
    {
     "data": {
      "text/plain": [
       "0.7406077428649428"
      ]
     },
     "execution_count": 45,
     "metadata": {},
     "output_type": "execute_result"
    }
   ],
   "source": [
    "from sklearn import datasets # sklearn comes with a variety of preloaded datasets \n",
    "from sklearn import metrics # calculate how well our model is doing\n",
    "from sklearn.linear_model import LinearRegression \n",
    "from sklearn.metrics import r2_score\n",
    "\n",
    "ds = datasets.load_boston()\n",
    "\n",
    "r = LinearRegression()\n",
    "r.fit(ds.data, ds.target)\n",
    "\n",
    "predictions = r.predict(ds.data)\n",
    "\n",
    "\n",
    "\n",
    "print('Variance score: %.4f' % r2_score(ds.target, predictions))\n",
    "s = r.score(ds.data, ds.target)\n",
    "s\n",
    "\n"
   ]
  }
 ],
 "metadata": {
  "kernelspec": {
   "display_name": "Python [default]",
   "language": "python",
   "name": "python3"
  },
  "language_info": {
   "codemirror_mode": {
    "name": "ipython",
    "version": 3
   },
   "file_extension": ".py",
   "mimetype": "text/x-python",
   "name": "python",
   "nbconvert_exporter": "python",
   "pygments_lexer": "ipython3",
   "version": "3.6.8"
  }
 },
 "nbformat": 4,
 "nbformat_minor": 2
}
