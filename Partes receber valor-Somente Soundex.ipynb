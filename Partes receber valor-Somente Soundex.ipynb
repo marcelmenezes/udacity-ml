{
 "cells": [
  {
   "cell_type": "code",
   "execution_count": 4,
   "metadata": {},
   "outputs": [],
   "source": [
    "import pandas as pd \n",
    "from soundex import *\n"
   ]
  },
  {
   "cell_type": "code",
   "execution_count": 8,
   "metadata": {},
   "outputs": [],
   "source": [
    "from sklearn.externals import joblib\n",
    "reg = joblib.load('modelo_soundex.pkl')"
   ]
  },
  {
   "cell_type": "code",
   "execution_count": 13,
   "metadata": {},
   "outputs": [
    {
     "name": "stdout",
     "output_type": "stream",
     "text": [
      "predict:  JOANA\n",
      "predict:  [1]\n",
      "proba:  [[0.48011721 0.51988279]]\n"
     ]
    }
   ],
   "source": [
    "nome = \"JOANA\"\n",
    "\n",
    "nome = remove_accents(nome)\n",
    "pnome = primeiro_nome(nome)\n",
    "#print(\"'{0}'\".format(pnome))\n",
    "\n",
    "df = pd.DataFrame({'PrimeiroNomeNoAccents': [pnome]})\n",
    "df.head()\n",
    "\n",
    "df['Sounde'] = df.apply(lambda row: soundex(row['PrimeiroNomeNoAccents']), axis=1)\n",
    "\n",
    "df['SoundexIndice0'] = df[df['Sounde'].notna()].apply(lambda row: ord(row['Sounde'][0:1]), axis=1)\n",
    "df['SoundexIndice1'] = df[df['Sounde'].notna()].apply(lambda row: int(row['Sounde'][1:2]), axis=1)\n",
    "df['SoundexIndice2'] = df[df['Sounde'].notna()].apply(lambda row: int(row['Sounde'][2:3]), axis=1)\n",
    "df['SoundexIndice3'] = df[df['Sounde'].notna()].apply(lambda row: int(row['Sounde'][3:4]), axis=1)\n",
    "\n",
    "\n",
    "\n",
    "df['Leng'] = df.apply(lambda row: len(row['PrimeiroNomeNoAccents']), axis=1)\n",
    "\n",
    "\n",
    "\n",
    "df.head()\n",
    "\n",
    "\n",
    "drop = df.drop(['PrimeiroNomeNoAccents', 'Sounde'], axis=1)\n",
    "df = drop\n",
    "\n",
    "\n",
    "\n",
    "reg.predict_proba(df)\n",
    "\n",
    "print(\"predict: \", pnome)\n",
    "print(\"predict: \", reg.predict(df))\n",
    "print(\"proba: \", reg.predict_proba(df))"
   ]
  }
 ],
 "metadata": {
  "kernelspec": {
   "display_name": "Python [conda env:anaconda3]",
   "language": "python",
   "name": "conda-env-anaconda3-py"
  },
  "language_info": {
   "codemirror_mode": {
    "name": "ipython",
    "version": 3
   },
   "file_extension": ".py",
   "mimetype": "text/x-python",
   "name": "python",
   "nbconvert_exporter": "python",
   "pygments_lexer": "ipython3",
   "version": "3.6.5"
  }
 },
 "nbformat": 4,
 "nbformat_minor": 2
}
