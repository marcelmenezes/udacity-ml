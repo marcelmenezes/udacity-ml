{
 "cells": [
  {
   "cell_type": "code",
   "execution_count": 1,
   "metadata": {},
   "outputs": [
    {
     "name": "stdout",
     "output_type": "stream",
     "text": [
      "getSexoRandomForest\t ('M', {'probability to be Female': 0.15418033906634243, 'probability to be Male': 0.8458196609336583})\n",
      "getSexoSVC\t\t ('M', {'probability to be Female': 0.4030841041801092, 'probability to be Male': 0.5969158958198908})\n"
     ]
    }
   ],
   "source": [
    "from modeloRandomForest import *\n",
    "#import formatoModelo\n",
    "\n",
    "nome = \"carlos\" # name in Portuguese\n",
    "c = getSexoRandomForest(nome)\n",
    "print(\"getSexoRandomForest\\t\", c)\n",
    "\n",
    "c = getSexoSVC(nome)\n",
    "print(\"getSexoSVC\\t\\t\", c)"
   ]
  }
 ],
 "metadata": {
  "kernelspec": {
   "display_name": "Python [conda env:anaconda3]",
   "language": "python",
   "name": "conda-env-anaconda3-py"
  },
  "language_info": {
   "codemirror_mode": {
    "name": "ipython",
    "version": 3
   },
   "file_extension": ".py",
   "mimetype": "text/x-python",
   "name": "python",
   "nbconvert_exporter": "python",
   "pygments_lexer": "ipython3",
   "version": "3.6.5"
  }
 },
 "nbformat": 4,
 "nbformat_minor": 2
}
