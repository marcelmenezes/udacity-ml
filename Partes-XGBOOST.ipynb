{
 "cells": [
  {
   "cell_type": "code",
   "execution_count": 568,
   "metadata": {
    "scrolled": true
   },
   "outputs": [],
   "source": [
    "import numpy as np\n",
    "import pandas as pd\n",
    "from sound import *\n",
    "from xgboost import XGBClassifier\n",
    "\n",
    "df = pd.read_csv('parte_nome_sexo.csv')\n",
    "df\n",
    "\n",
    "df = df[df['PrimeiroNomeNoAccents'].notna()]\n",
    "#df = df[45000:50000]\n",
    "df = df[:50000]"
   ]
  },
  {
   "cell_type": "code",
   "execution_count": 569,
   "metadata": {
    "scrolled": true
   },
   "outputs": [],
   "source": [
    "df['Sounde'] = df.apply(lambda row: soundex(row['PrimeiroNomeNoAccents']), axis=1)"
   ]
  },
  {
   "cell_type": "code",
   "execution_count": 570,
   "metadata": {
    "scrolled": true
   },
   "outputs": [
    {
     "data": {
      "text/html": [
       "<div>\n",
       "<style scoped>\n",
       "    .dataframe tbody tr th:only-of-type {\n",
       "        vertical-align: middle;\n",
       "    }\n",
       "\n",
       "    .dataframe tbody tr th {\n",
       "        vertical-align: top;\n",
       "    }\n",
       "\n",
       "    .dataframe thead th {\n",
       "        text-align: right;\n",
       "    }\n",
       "</style>\n",
       "<table border=\"1\" class=\"dataframe\">\n",
       "  <thead>\n",
       "    <tr style=\"text-align: right;\">\n",
       "      <th></th>\n",
       "      <th>Masculino</th>\n",
       "      <th>Feminino</th>\n",
       "      <th>PrimeiroNomeNoAccents</th>\n",
       "      <th>Sounde</th>\n",
       "    </tr>\n",
       "  </thead>\n",
       "  <tbody>\n",
       "  </tbody>\n",
       "</table>\n",
       "</div>"
      ],
      "text/plain": [
       "Empty DataFrame\n",
       "Columns: [Masculino, Feminino, PrimeiroNomeNoAccents, Sounde]\n",
       "Index: []"
      ]
     },
     "execution_count": 570,
     "metadata": {},
     "output_type": "execute_result"
    }
   ],
   "source": [
    "df[df['Masculino'] == df['Feminino']]"
   ]
  },
  {
   "cell_type": "code",
   "execution_count": 571,
   "metadata": {},
   "outputs": [],
   "source": [
    "df['SoundexIndice0'] = df[df['Sounde'].notna()].apply(lambda row: ord(row['Sounde'][0:1]), axis=1)\n",
    "df['SoundexIndice1'] = df[df['Sounde'].notna()].apply(lambda row: int(row['Sounde'][1:2]), axis=1)\n",
    "df['SoundexIndice2'] = df[df['Sounde'].notna()].apply(lambda row: int(row['Sounde'][2:3]), axis=1)\n",
    "df['SoundexIndice3'] = df[df['Sounde'].notna()].apply(lambda row: int(row['Sounde'][3:4]), axis=1)"
   ]
  },
  {
   "cell_type": "code",
   "execution_count": 572,
   "metadata": {},
   "outputs": [],
   "source": [
    "df['Leng'] = df.apply(lambda row: len(row['PrimeiroNomeNoAccents']), axis=1)"
   ]
  },
  {
   "cell_type": "code",
   "execution_count": 573,
   "metadata": {},
   "outputs": [
    {
     "name": "stdout",
     "output_type": "stream",
     "text": [
      "ok 0\n",
      "ok 1\n",
      "ok 2\n",
      "ok 3\n",
      "ok 4\n",
      "ok 5\n",
      "ok 6\n",
      "ok 7\n",
      "ok 8\n",
      "ok 9\n"
     ]
    }
   ],
   "source": [
    "for i in range(0, 10):\n",
    "    df['LetraIndice' + str(i)] = df.apply(lambda row: getascii(row, i), axis=1)\n",
    "    print('ok {0}'.format(i))"
   ]
  },
  {
   "cell_type": "code",
   "execution_count": 574,
   "metadata": {},
   "outputs": [],
   "source": [
    "def getascii(row, indice):\n",
    "    c = row['PrimeiroNomeNoAccents'][indice:indice+1]\n",
    "    if(len(c) == 0):\n",
    "        return np.nan\n",
    "    return ord(c)\n",
    "\n",
    "    "
   ]
  },
  {
   "cell_type": "code",
   "execution_count": 575,
   "metadata": {
    "scrolled": true
   },
   "outputs": [],
   "source": [
    "mean = df['LetraIndice1'].mean()\n",
    "#df_backup = df\n",
    "s = df[df['LetraIndice1'].isna()]['LetraIndice1']\n",
    "\n",
    "\n",
    "values = {\n",
    "    'LetraIndice1': df['LetraIndice1'].mean(), \n",
    "    'LetraIndice2': df['LetraIndice2'].mean(), \n",
    "    'LetraIndice3': df['LetraIndice3'].mean(), \n",
    "    'LetraIndice4': df['LetraIndice4'].mean(), \n",
    "    'LetraIndice5': df['LetraIndice5'].mean(), \n",
    "    'LetraIndice6': df['LetraIndice6'].mean(), \n",
    "    'LetraIndice7': df['LetraIndice7'].mean(), \n",
    "    'LetraIndice8': df['LetraIndice8'].mean(), \n",
    "    'LetraIndice9': df['LetraIndice9'].mean(), \n",
    "}\n",
    "\n",
    "df = df.fillna(value=values)\n",
    "df_Mean = pd.DataFrame(values, index=[0])\n",
    "df_Mean.to_csv(\"mediaLetras.csv\", index=False)"
   ]
  },
  {
   "cell_type": "code",
   "execution_count": 576,
   "metadata": {
    "scrolled": true
   },
   "outputs": [],
   "source": [
    "from sklearn.datasets import load_iris\n",
    "from sklearn.model_selection import GridSearchCV\n",
    "from sklearn.ensemble import RandomForestRegressor\n",
    "from sklearn.model_selection import train_test_split\n",
    "from sklearn.ensemble import RandomForestClassifier\n",
    "\n",
    "X = df.drop(['Masculino', 'Feminino', 'PrimeiroNomeNoAccents', 'Sounde'], axis=1)\n",
    "y = df.loc[:, 'Masculino']\n",
    "\n",
    "\n",
    "X_train, X_test, y_train, y_test = train_test_split(X, y, test_size=.33, random_state=7)\n",
    "\n",
    "#X\n",
    "#est = RandomForestClassifier(n_estimators = 40).fit(X, y)\n",
    "#est.score(X, y)\n",
    "\n",
    "#est = reg"
   ]
  },
  {
   "cell_type": "code",
   "execution_count": 577,
   "metadata": {
    "scrolled": true
   },
   "outputs": [],
   "source": [
    "c = pd.concat([df.loc[:,'PrimeiroNomeNoAccents'], X], axis=1)"
   ]
  },
  {
   "cell_type": "code",
   "execution_count": 578,
   "metadata": {},
   "outputs": [],
   "source": [
    "import warnings\n",
    "warnings.simplefilter('ignore', DeprecationWarning)\n",
    "\n",
    "parameters =  {\n",
    "        'learning_rate': [0.02, 0.1],\n",
    "        'min_child_weight': [0.1, 1],\n",
    "        'gamma': [0.01, 0.1, 0.5],\n",
    "        'subsample': [0.8],\n",
    "        'colsample_bytree': [0.6],\n",
    "        'max_depth': [5, 8],\n",
    "        'n_estimators': [300]\n",
    "        }\n",
    "#xgb = XGBClassifier()\n",
    "#clf = GridSearchCV(xgb, parameters, cv=4)\n",
    "#clf.fit(X, y)\n"
   ]
  },
  {
   "cell_type": "code",
   "execution_count": 579,
   "metadata": {},
   "outputs": [],
   "source": [
    "#print(clf.get_params())\n",
    "\n",
    "#est = clf.best_estimator_\n",
    "#est\n",
    "#clf.score(X, y)"
   ]
  },
  {
   "cell_type": "code",
   "execution_count": 580,
   "metadata": {},
   "outputs": [
    {
     "data": {
      "text/plain": [
       "{'base_score': 0.5,\n",
       " 'booster': 'gbtree',\n",
       " 'colsample_bylevel': 1,\n",
       " 'colsample_bytree': 0.6,\n",
       " 'gamma': 0.1,\n",
       " 'learning_rate': 0.02,\n",
       " 'max_delta_step': 0,\n",
       " 'max_depth': 8,\n",
       " 'min_child_weight': 1,\n",
       " 'missing': None,\n",
       " 'n_estimators': 1000,\n",
       " 'n_jobs': 1,\n",
       " 'nthread': None,\n",
       " 'objective': 'binary:logistic',\n",
       " 'random_state': 0,\n",
       " 'reg_alpha': 0,\n",
       " 'reg_lambda': 1,\n",
       " 'scale_pos_weight': 1,\n",
       " 'seed': None,\n",
       " 'silent': True,\n",
       " 'subsample': 0.8}"
      ]
     },
     "execution_count": 580,
     "metadata": {},
     "output_type": "execute_result"
    }
   ],
   "source": [
    "est.get_params()"
   ]
  },
  {
   "cell_type": "code",
   "execution_count": 581,
   "metadata": {},
   "outputs": [
    {
     "data": {
      "text/plain": [
       "XGBClassifier(base_score=0.5, booster='gbtree', colsample_bylevel=1,\n",
       "       colsample_bytree=0.6, gamma=0.1, learning_rate=0.02,\n",
       "       max_delta_step=0, max_depth=8, min_child_weight=1, missing=None,\n",
       "       n_estimators=1000, n_jobs=1, nthread=None,\n",
       "       objective='binary:logistic', random_state=0, reg_alpha=0,\n",
       "       reg_lambda=1, scale_pos_weight=1, seed=None, silent=True,\n",
       "       subsample=0.8)"
      ]
     },
     "execution_count": 581,
     "metadata": {},
     "output_type": "execute_result"
    }
   ],
   "source": [
    "params1 = {'base_score': 0.5,\n",
    " 'booster': 'gbtree',\n",
    " 'colsample_bylevel': 1,\n",
    " 'colsample_bytree': 0.6,\n",
    " 'gamma': 0.1,\n",
    " 'learning_rate': 0.02,\n",
    " 'max_delta_step': 0,\n",
    " 'max_depth': 8,\n",
    " 'min_child_weight': 1,\n",
    " 'missing': None,\n",
    " 'n_estimators': 1000,\n",
    " 'n_jobs': 1,\n",
    " 'nthread': None,\n",
    " 'objective': 'binary:logistic',\n",
    " 'random_state': 0,\n",
    " 'reg_alpha': 0,\n",
    " 'reg_lambda': 1,\n",
    " 'scale_pos_weight': 1,\n",
    " 'seed': None,\n",
    " 'silent': True,\n",
    " 'subsample': 0.8}\n",
    "\n",
    "est = XGBClassifier(**params1)\n",
    "est.fit(X, y)"
   ]
  },
  {
   "cell_type": "code",
   "execution_count": 582,
   "metadata": {},
   "outputs": [
    {
     "data": {
      "text/plain": [
       "0.9676716417910448"
      ]
     },
     "execution_count": 582,
     "metadata": {},
     "output_type": "execute_result"
    }
   ],
   "source": [
    "est.score(X_train, y_train)"
   ]
  },
  {
   "cell_type": "code",
   "execution_count": 583,
   "metadata": {},
   "outputs": [
    {
     "data": {
      "text/plain": [
       "0.9689090909090909"
      ]
     },
     "execution_count": 583,
     "metadata": {},
     "output_type": "execute_result"
    }
   ],
   "source": [
    "est.score(X_test, y_test)"
   ]
  },
  {
   "cell_type": "code",
   "execution_count": 584,
   "metadata": {},
   "outputs": [],
   "source": [
    "#est.predict_proba(X_test[0:1])\n"
   ]
  }
 ],
 "metadata": {
  "kernelspec": {
   "display_name": "Python [conda env:anaconda3]",
   "language": "python",
   "name": "conda-env-anaconda3-py"
  },
  "language_info": {
   "codemirror_mode": {
    "name": "ipython",
    "version": 3
   },
   "file_extension": ".py",
   "mimetype": "text/x-python",
   "name": "python",
   "nbconvert_exporter": "python",
   "pygments_lexer": "ipython3",
   "version": "3.6.5"
  }
 },
 "nbformat": 4,
 "nbformat_minor": 2
}
